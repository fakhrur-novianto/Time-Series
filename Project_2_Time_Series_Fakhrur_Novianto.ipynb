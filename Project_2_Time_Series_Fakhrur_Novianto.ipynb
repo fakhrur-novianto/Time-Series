{
  "nbformat": 4,
  "nbformat_minor": 0,
  "metadata": {
    "colab": {
      "provenance": []
    },
    "kernelspec": {
      "name": "python3",
      "display_name": "Python 3"
    },
    "language_info": {
      "name": "python"
    },
    "accelerator": "GPU"
  },
  "cells": [
    {
      "cell_type": "markdown",
      "source": [
        "### **Project 2 : Time Series**\n",
        "\n",
        "### **Nama : Fakhrur Novianto**\n",
        "\n",
        "### **Asal : Tangerang**\n",
        "\n",
        "### **Data : Austin Weather**"
      ],
      "metadata": {
        "id": "kDgSrqPOrTqu"
      }
    },
    {
      "cell_type": "code",
      "source": [
        "import pandas as pd\n",
        "import numpy as np\n",
        "import tensorflow as tf\n",
        "from sklearn.model_selection import train_test_split\n",
        "\n",
        "# Model\n",
        "from keras.layers import Embedding, Dense, LSTM\n",
        "from keras.models import Sequential\n",
        "\n",
        "# Preprocessing\n",
        "from keras.preprocessing.text import Tokenizer\n",
        "from keras.utils import pad_sequences"
      ],
      "metadata": {
        "id": "_cEsP-LBrcQC"
      },
      "execution_count": null,
      "outputs": []
    },
    {
      "cell_type": "code",
      "source": [
        "#! gdown --id 1fJ7wBPpc55PXxL2sAExWnAltNS9E1mYp"
      ],
      "metadata": {
        "id": "ySiEac4xroCW"
      },
      "execution_count": null,
      "outputs": []
    },
    {
      "cell_type": "code",
      "source": [
        "#data_awal_1 = pd.read_csv('/content/smoke_detection_iot.csv')\n",
        "data_awal_1 = pd.read_csv('austin_weather.csv')\n",
        "data_awal_1.head()"
      ],
      "metadata": {
        "colab": {
          "base_uri": "https://localhost:8080/",
          "height": 317
        },
        "id": "AiDUiTxGw1UT",
        "outputId": "6c8cc38a-18b8-4c5e-cec1-60839a41e4a8"
      },
      "execution_count": null,
      "outputs": [
        {
          "output_type": "execute_result",
          "data": {
            "text/plain": [
              "         Date  TempHighF  TempAvgF  TempLowF DewPointHighF DewPointAvgF  \\\n",
              "0  2013-12-21         74        60        45            67           49   \n",
              "1  2013-12-22         56        48        39            43           36   \n",
              "2  2013-12-23         58        45        32            31           27   \n",
              "3  2013-12-24         61        46        31            36           28   \n",
              "4  2013-12-25         58        50        41            44           40   \n",
              "\n",
              "  DewPointLowF HumidityHighPercent HumidityAvgPercent HumidityLowPercent  ...  \\\n",
              "0           43                  93                 75                 57  ...   \n",
              "1           28                  93                 68                 43  ...   \n",
              "2           23                  76                 52                 27  ...   \n",
              "3           21                  89                 56                 22  ...   \n",
              "4           36                  86                 71                 56  ...   \n",
              "\n",
              "  SeaLevelPressureAvgInches SeaLevelPressureLowInches VisibilityHighMiles  \\\n",
              "0                     29.68                     29.59                  10   \n",
              "1                     30.13                     29.87                  10   \n",
              "2                     30.49                     30.41                  10   \n",
              "3                     30.45                      30.3                  10   \n",
              "4                     30.33                     30.27                  10   \n",
              "\n",
              "  VisibilityAvgMiles VisibilityLowMiles WindHighMPH WindAvgMPH WindGustMPH  \\\n",
              "0                  7                  2          20          4          31   \n",
              "1                 10                  5          16          6          25   \n",
              "2                 10                 10           8          3          12   \n",
              "3                 10                  7          12          4          20   \n",
              "4                 10                  7          10          2          16   \n",
              "\n",
              "  PrecipitationSumInches               Events  \n",
              "0                   0.46  Rain , Thunderstorm  \n",
              "1                      0                       \n",
              "2                      0                       \n",
              "3                      0                       \n",
              "4                      T                       \n",
              "\n",
              "[5 rows x 21 columns]"
            ],
            "text/html": [
              "\n",
              "  <div id=\"df-46502329-6b5b-4ed5-b19a-a878e2107498\">\n",
              "    <div class=\"colab-df-container\">\n",
              "      <div>\n",
              "<style scoped>\n",
              "    .dataframe tbody tr th:only-of-type {\n",
              "        vertical-align: middle;\n",
              "    }\n",
              "\n",
              "    .dataframe tbody tr th {\n",
              "        vertical-align: top;\n",
              "    }\n",
              "\n",
              "    .dataframe thead th {\n",
              "        text-align: right;\n",
              "    }\n",
              "</style>\n",
              "<table border=\"1\" class=\"dataframe\">\n",
              "  <thead>\n",
              "    <tr style=\"text-align: right;\">\n",
              "      <th></th>\n",
              "      <th>Date</th>\n",
              "      <th>TempHighF</th>\n",
              "      <th>TempAvgF</th>\n",
              "      <th>TempLowF</th>\n",
              "      <th>DewPointHighF</th>\n",
              "      <th>DewPointAvgF</th>\n",
              "      <th>DewPointLowF</th>\n",
              "      <th>HumidityHighPercent</th>\n",
              "      <th>HumidityAvgPercent</th>\n",
              "      <th>HumidityLowPercent</th>\n",
              "      <th>...</th>\n",
              "      <th>SeaLevelPressureAvgInches</th>\n",
              "      <th>SeaLevelPressureLowInches</th>\n",
              "      <th>VisibilityHighMiles</th>\n",
              "      <th>VisibilityAvgMiles</th>\n",
              "      <th>VisibilityLowMiles</th>\n",
              "      <th>WindHighMPH</th>\n",
              "      <th>WindAvgMPH</th>\n",
              "      <th>WindGustMPH</th>\n",
              "      <th>PrecipitationSumInches</th>\n",
              "      <th>Events</th>\n",
              "    </tr>\n",
              "  </thead>\n",
              "  <tbody>\n",
              "    <tr>\n",
              "      <th>0</th>\n",
              "      <td>2013-12-21</td>\n",
              "      <td>74</td>\n",
              "      <td>60</td>\n",
              "      <td>45</td>\n",
              "      <td>67</td>\n",
              "      <td>49</td>\n",
              "      <td>43</td>\n",
              "      <td>93</td>\n",
              "      <td>75</td>\n",
              "      <td>57</td>\n",
              "      <td>...</td>\n",
              "      <td>29.68</td>\n",
              "      <td>29.59</td>\n",
              "      <td>10</td>\n",
              "      <td>7</td>\n",
              "      <td>2</td>\n",
              "      <td>20</td>\n",
              "      <td>4</td>\n",
              "      <td>31</td>\n",
              "      <td>0.46</td>\n",
              "      <td>Rain , Thunderstorm</td>\n",
              "    </tr>\n",
              "    <tr>\n",
              "      <th>1</th>\n",
              "      <td>2013-12-22</td>\n",
              "      <td>56</td>\n",
              "      <td>48</td>\n",
              "      <td>39</td>\n",
              "      <td>43</td>\n",
              "      <td>36</td>\n",
              "      <td>28</td>\n",
              "      <td>93</td>\n",
              "      <td>68</td>\n",
              "      <td>43</td>\n",
              "      <td>...</td>\n",
              "      <td>30.13</td>\n",
              "      <td>29.87</td>\n",
              "      <td>10</td>\n",
              "      <td>10</td>\n",
              "      <td>5</td>\n",
              "      <td>16</td>\n",
              "      <td>6</td>\n",
              "      <td>25</td>\n",
              "      <td>0</td>\n",
              "      <td></td>\n",
              "    </tr>\n",
              "    <tr>\n",
              "      <th>2</th>\n",
              "      <td>2013-12-23</td>\n",
              "      <td>58</td>\n",
              "      <td>45</td>\n",
              "      <td>32</td>\n",
              "      <td>31</td>\n",
              "      <td>27</td>\n",
              "      <td>23</td>\n",
              "      <td>76</td>\n",
              "      <td>52</td>\n",
              "      <td>27</td>\n",
              "      <td>...</td>\n",
              "      <td>30.49</td>\n",
              "      <td>30.41</td>\n",
              "      <td>10</td>\n",
              "      <td>10</td>\n",
              "      <td>10</td>\n",
              "      <td>8</td>\n",
              "      <td>3</td>\n",
              "      <td>12</td>\n",
              "      <td>0</td>\n",
              "      <td></td>\n",
              "    </tr>\n",
              "    <tr>\n",
              "      <th>3</th>\n",
              "      <td>2013-12-24</td>\n",
              "      <td>61</td>\n",
              "      <td>46</td>\n",
              "      <td>31</td>\n",
              "      <td>36</td>\n",
              "      <td>28</td>\n",
              "      <td>21</td>\n",
              "      <td>89</td>\n",
              "      <td>56</td>\n",
              "      <td>22</td>\n",
              "      <td>...</td>\n",
              "      <td>30.45</td>\n",
              "      <td>30.3</td>\n",
              "      <td>10</td>\n",
              "      <td>10</td>\n",
              "      <td>7</td>\n",
              "      <td>12</td>\n",
              "      <td>4</td>\n",
              "      <td>20</td>\n",
              "      <td>0</td>\n",
              "      <td></td>\n",
              "    </tr>\n",
              "    <tr>\n",
              "      <th>4</th>\n",
              "      <td>2013-12-25</td>\n",
              "      <td>58</td>\n",
              "      <td>50</td>\n",
              "      <td>41</td>\n",
              "      <td>44</td>\n",
              "      <td>40</td>\n",
              "      <td>36</td>\n",
              "      <td>86</td>\n",
              "      <td>71</td>\n",
              "      <td>56</td>\n",
              "      <td>...</td>\n",
              "      <td>30.33</td>\n",
              "      <td>30.27</td>\n",
              "      <td>10</td>\n",
              "      <td>10</td>\n",
              "      <td>7</td>\n",
              "      <td>10</td>\n",
              "      <td>2</td>\n",
              "      <td>16</td>\n",
              "      <td>T</td>\n",
              "      <td></td>\n",
              "    </tr>\n",
              "  </tbody>\n",
              "</table>\n",
              "<p>5 rows × 21 columns</p>\n",
              "</div>\n",
              "      <button class=\"colab-df-convert\" onclick=\"convertToInteractive('df-46502329-6b5b-4ed5-b19a-a878e2107498')\"\n",
              "              title=\"Convert this dataframe to an interactive table.\"\n",
              "              style=\"display:none;\">\n",
              "        \n",
              "  <svg xmlns=\"http://www.w3.org/2000/svg\" height=\"24px\"viewBox=\"0 0 24 24\"\n",
              "       width=\"24px\">\n",
              "    <path d=\"M0 0h24v24H0V0z\" fill=\"none\"/>\n",
              "    <path d=\"M18.56 5.44l.94 2.06.94-2.06 2.06-.94-2.06-.94-.94-2.06-.94 2.06-2.06.94zm-11 1L8.5 8.5l.94-2.06 2.06-.94-2.06-.94L8.5 2.5l-.94 2.06-2.06.94zm10 10l.94 2.06.94-2.06 2.06-.94-2.06-.94-.94-2.06-.94 2.06-2.06.94z\"/><path d=\"M17.41 7.96l-1.37-1.37c-.4-.4-.92-.59-1.43-.59-.52 0-1.04.2-1.43.59L10.3 9.45l-7.72 7.72c-.78.78-.78 2.05 0 2.83L4 21.41c.39.39.9.59 1.41.59.51 0 1.02-.2 1.41-.59l7.78-7.78 2.81-2.81c.8-.78.8-2.07 0-2.86zM5.41 20L4 18.59l7.72-7.72 1.47 1.35L5.41 20z\"/>\n",
              "  </svg>\n",
              "      </button>\n",
              "      \n",
              "  <style>\n",
              "    .colab-df-container {\n",
              "      display:flex;\n",
              "      flex-wrap:wrap;\n",
              "      gap: 12px;\n",
              "    }\n",
              "\n",
              "    .colab-df-convert {\n",
              "      background-color: #E8F0FE;\n",
              "      border: none;\n",
              "      border-radius: 50%;\n",
              "      cursor: pointer;\n",
              "      display: none;\n",
              "      fill: #1967D2;\n",
              "      height: 32px;\n",
              "      padding: 0 0 0 0;\n",
              "      width: 32px;\n",
              "    }\n",
              "\n",
              "    .colab-df-convert:hover {\n",
              "      background-color: #E2EBFA;\n",
              "      box-shadow: 0px 1px 2px rgba(60, 64, 67, 0.3), 0px 1px 3px 1px rgba(60, 64, 67, 0.15);\n",
              "      fill: #174EA6;\n",
              "    }\n",
              "\n",
              "    [theme=dark] .colab-df-convert {\n",
              "      background-color: #3B4455;\n",
              "      fill: #D2E3FC;\n",
              "    }\n",
              "\n",
              "    [theme=dark] .colab-df-convert:hover {\n",
              "      background-color: #434B5C;\n",
              "      box-shadow: 0px 1px 3px 1px rgba(0, 0, 0, 0.15);\n",
              "      filter: drop-shadow(0px 1px 2px rgba(0, 0, 0, 0.3));\n",
              "      fill: #FFFFFF;\n",
              "    }\n",
              "  </style>\n",
              "\n",
              "      <script>\n",
              "        const buttonEl =\n",
              "          document.querySelector('#df-46502329-6b5b-4ed5-b19a-a878e2107498 button.colab-df-convert');\n",
              "        buttonEl.style.display =\n",
              "          google.colab.kernel.accessAllowed ? 'block' : 'none';\n",
              "\n",
              "        async function convertToInteractive(key) {\n",
              "          const element = document.querySelector('#df-46502329-6b5b-4ed5-b19a-a878e2107498');\n",
              "          const dataTable =\n",
              "            await google.colab.kernel.invokeFunction('convertToInteractive',\n",
              "                                                     [key], {});\n",
              "          if (!dataTable) return;\n",
              "\n",
              "          const docLinkHtml = 'Like what you see? Visit the ' +\n",
              "            '<a target=\"_blank\" href=https://colab.research.google.com/notebooks/data_table.ipynb>data table notebook</a>'\n",
              "            + ' to learn more about interactive tables.';\n",
              "          element.innerHTML = '';\n",
              "          dataTable['output_type'] = 'display_data';\n",
              "          await google.colab.output.renderOutput(dataTable, element);\n",
              "          const docLink = document.createElement('div');\n",
              "          docLink.innerHTML = docLinkHtml;\n",
              "          element.appendChild(docLink);\n",
              "        }\n",
              "      </script>\n",
              "    </div>\n",
              "  </div>\n",
              "  "
            ]
          },
          "metadata": {},
          "execution_count": 112
        }
      ]
    },
    {
      "cell_type": "code",
      "source": [
        "data_awal_1 = data_awal_1.dropna()"
      ],
      "metadata": {
        "id": "1yJfFhA-eR2J"
      },
      "execution_count": null,
      "outputs": []
    },
    {
      "cell_type": "code",
      "source": [
        "import matplotlib.pyplot as plt\n",
        "\n",
        "target = 'TempAvgF'\n",
        "\n",
        "plt.plot(data_awal_1[target].values)"
      ],
      "metadata": {
        "colab": {
          "base_uri": "https://localhost:8080/",
          "height": 282
        },
        "id": "GdatynxLSJKv",
        "outputId": "54031645-d167-47f1-b143-f0eb0ffceab4"
      },
      "execution_count": null,
      "outputs": [
        {
          "output_type": "execute_result",
          "data": {
            "text/plain": [
              "[<matplotlib.lines.Line2D at 0x7f6997fe0c50>]"
            ]
          },
          "metadata": {},
          "execution_count": 114
        },
        {
          "output_type": "display_data",
          "data": {
            "text/plain": [
              "<Figure size 432x288 with 1 Axes>"
            ],
            "image/png": "[encoded data removed]"
          },
          "metadata": {
            "needs_background": "light"
          }
        }
      ]
    },
    {
      "cell_type": "code",
      "source": [
        "data_awal_1.isnull().sum()"
      ],
      "metadata": {
        "colab": {
          "base_uri": "https://localhost:8080/"
        },
        "id": "krOCBbcxGLYD",
        "outputId": "b9e35928-c91e-482c-9d53-6d12936e3ade"
      },
      "execution_count": null,
      "outputs": [
        {
          "output_type": "execute_result",
          "data": {
            "text/plain": [
              "Date                          0\n",
              "TempHighF                     0\n",
              "TempAvgF                      0\n",
              "TempLowF                      0\n",
              "DewPointHighF                 0\n",
              "DewPointAvgF                  0\n",
              "DewPointLowF                  0\n",
              "HumidityHighPercent           0\n",
              "HumidityAvgPercent            0\n",
              "HumidityLowPercent            0\n",
              "SeaLevelPressureHighInches    0\n",
              "SeaLevelPressureAvgInches     0\n",
              "SeaLevelPressureLowInches     0\n",
              "VisibilityHighMiles           0\n",
              "VisibilityAvgMiles            0\n",
              "VisibilityLowMiles            0\n",
              "WindHighMPH                   0\n",
              "WindAvgMPH                    0\n",
              "WindGustMPH                   0\n",
              "PrecipitationSumInches        0\n",
              "Events                        0\n",
              "dtype: int64"
            ]
          },
          "metadata": {},
          "execution_count": 115
        }
      ]
    },
    {
      "cell_type": "code",
      "source": [
        "data_awal_1.count()"
      ],
      "metadata": {
        "colab": {
          "base_uri": "https://localhost:8080/"
        },
        "id": "kZYoxa2SJ7Oe",
        "outputId": "096f7f69-e2af-480a-a6a5-e5f73ab9ae2a"
      },
      "execution_count": null,
      "outputs": [
        {
          "output_type": "execute_result",
          "data": {
            "text/plain": [
              "Date                          1319\n",
              "TempHighF                     1319\n",
              "TempAvgF                      1319\n",
              "TempLowF                      1319\n",
              "DewPointHighF                 1319\n",
              "DewPointAvgF                  1319\n",
              "DewPointLowF                  1319\n",
              "HumidityHighPercent           1319\n",
              "HumidityAvgPercent            1319\n",
              "HumidityLowPercent            1319\n",
              "SeaLevelPressureHighInches    1319\n",
              "SeaLevelPressureAvgInches     1319\n",
              "SeaLevelPressureLowInches     1319\n",
              "VisibilityHighMiles           1319\n",
              "VisibilityAvgMiles            1319\n",
              "VisibilityLowMiles            1319\n",
              "WindHighMPH                   1319\n",
              "WindAvgMPH                    1319\n",
              "WindGustMPH                   1319\n",
              "PrecipitationSumInches        1319\n",
              "Events                        1319\n",
              "dtype: int64"
            ]
          },
          "metadata": {},
          "execution_count": 116
        }
      ]
    },
    {
      "cell_type": "code",
      "source": [
        "data_awal_1.head()"
      ],
      "metadata": {
        "colab": {
          "base_uri": "https://localhost:8080/",
          "height": 317
        },
        "id": "tMb0lRo8ukfq",
        "outputId": "465698d8-a0e1-4f17-c935-5d92b9c8af33"
      },
      "execution_count": null,
      "outputs": [
        {
          "output_type": "execute_result",
          "data": {
            "text/plain": [
              "         Date  TempHighF  TempAvgF  TempLowF DewPointHighF DewPointAvgF  \\\n",
              "0  2013-12-21         74        60        45            67           49   \n",
              "1  2013-12-22         56        48        39            43           36   \n",
              "2  2013-12-23         58        45        32            31           27   \n",
              "3  2013-12-24         61        46        31            36           28   \n",
              "4  2013-12-25         58        50        41            44           40   \n",
              "\n",
              "  DewPointLowF HumidityHighPercent HumidityAvgPercent HumidityLowPercent  ...  \\\n",
              "0           43                  93                 75                 57  ...   \n",
              "1           28                  93                 68                 43  ...   \n",
              "2           23                  76                 52                 27  ...   \n",
              "3           21                  89                 56                 22  ...   \n",
              "4           36                  86                 71                 56  ...   \n",
              "\n",
              "  SeaLevelPressureAvgInches SeaLevelPressureLowInches VisibilityHighMiles  \\\n",
              "0                     29.68                     29.59                  10   \n",
              "1                     30.13                     29.87                  10   \n",
              "2                     30.49                     30.41                  10   \n",
              "3                     30.45                      30.3                  10   \n",
              "4                     30.33                     30.27                  10   \n",
              "\n",
              "  VisibilityAvgMiles VisibilityLowMiles WindHighMPH WindAvgMPH WindGustMPH  \\\n",
              "0                  7                  2          20          4          31   \n",
              "1                 10                  5          16          6          25   \n",
              "2                 10                 10           8          3          12   \n",
              "3                 10                  7          12          4          20   \n",
              "4                 10                  7          10          2          16   \n",
              "\n",
              "  PrecipitationSumInches               Events  \n",
              "0                   0.46  Rain , Thunderstorm  \n",
              "1                      0                       \n",
              "2                      0                       \n",
              "3                      0                       \n",
              "4                      T                       \n",
              "\n",
              "[5 rows x 21 columns]"
            ],
            "text/html": [
              "\n",
              "  <div id=\"df-b37d837e-128d-4674-a9d7-db3fc4232a27\">\n",
              "    <div class=\"colab-df-container\">\n",
              "      <div>\n",
              "<style scoped>\n",
              "    .dataframe tbody tr th:only-of-type {\n",
              "        vertical-align: middle;\n",
              "    }\n",
              "\n",
              "    .dataframe tbody tr th {\n",
              "        vertical-align: top;\n",
              "    }\n",
              "\n",
              "    .dataframe thead th {\n",
              "        text-align: right;\n",
              "    }\n",
              "</style>\n",
              "<table border=\"1\" class=\"dataframe\">\n",
              "  <thead>\n",
              "    <tr style=\"text-align: right;\">\n",
              "      <th></th>\n",
              "      <th>Date</th>\n",
              "      <th>TempHighF</th>\n",
              "      <th>TempAvgF</th>\n",
              "      <th>TempLowF</th>\n",
              "      <th>DewPointHighF</th>\n",
              "      <th>DewPointAvgF</th>\n",
              "      <th>DewPointLowF</th>\n",
              "      <th>HumidityHighPercent</th>\n",
              "      <th>HumidityAvgPercent</th>\n",
              "      <th>HumidityLowPercent</th>\n",
              "      <th>...</th>\n",
              "      <th>SeaLevelPressureAvgInches</th>\n",
              "      <th>SeaLevelPressureLowInches</th>\n",
              "      <th>VisibilityHighMiles</th>\n",
              "      <th>VisibilityAvgMiles</th>\n",
              "      <th>VisibilityLowMiles</th>\n",
              "      <th>WindHighMPH</th>\n",
              "      <th>WindAvgMPH</th>\n",
              "      <th>WindGustMPH</th>\n",
              "      <th>PrecipitationSumInches</th>\n",
              "      <th>Events</th>\n",
              "    </tr>\n",
              "  </thead>\n",
              "  <tbody>\n",
              "    <tr>\n",
              "      <th>0</th>\n",
              "      <td>2013-12-21</td>\n",
              "      <td>74</td>\n",
              "      <td>60</td>\n",
              "      <td>45</td>\n",
              "      <td>67</td>\n",
              "      <td>49</td>\n",
              "      <td>43</td>\n",
              "      <td>93</td>\n",
              "      <td>75</td>\n",
              "      <td>57</td>\n",
              "      <td>...</td>\n",
              "      <td>29.68</td>\n",
              "      <td>29.59</td>\n",
              "      <td>10</td>\n",
              "      <td>7</td>\n",
              "      <td>2</td>\n",
              "      <td>20</td>\n",
              "      <td>4</td>\n",
              "      <td>31</td>\n",
              "      <td>0.46</td>\n",
              "      <td>Rain , Thunderstorm</td>\n",
              "    </tr>\n",
              "    <tr>\n",
              "      <th>1</th>\n",
              "      <td>2013-12-22</td>\n",
              "      <td>56</td>\n",
              "      <td>48</td>\n",
              "      <td>39</td>\n",
              "      <td>43</td>\n",
              "      <td>36</td>\n",
              "      <td>28</td>\n",
              "      <td>93</td>\n",
              "      <td>68</td>\n",
              "      <td>43</td>\n",
              "      <td>...</td>\n",
              "      <td>30.13</td>\n",
              "      <td>29.87</td>\n",
              "      <td>10</td>\n",
              "      <td>10</td>\n",
              "      <td>5</td>\n",
              "      <td>16</td>\n",
              "      <td>6</td>\n",
              "      <td>25</td>\n",
              "      <td>0</td>\n",
              "      <td></td>\n",
              "    </tr>\n",
              "    <tr>\n",
              "      <th>2</th>\n",
              "      <td>2013-12-23</td>\n",
              "      <td>58</td>\n",
              "      <td>45</td>\n",
              "      <td>32</td>\n",
              "      <td>31</td>\n",
              "      <td>27</td>\n",
              "      <td>23</td>\n",
              "      <td>76</td>\n",
              "      <td>52</td>\n",
              "      <td>27</td>\n",
              "      <td>...</td>\n",
              "      <td>30.49</td>\n",
              "      <td>30.41</td>\n",
              "      <td>10</td>\n",
              "      <td>10</td>\n",
              "      <td>10</td>\n",
              "      <td>8</td>\n",
              "      <td>3</td>\n",
              "      <td>12</td>\n",
              "      <td>0</td>\n",
              "      <td></td>\n",
              "    </tr>\n",
              "    <tr>\n",
              "      <th>3</th>\n",
              "      <td>2013-12-24</td>\n",
              "      <td>61</td>\n",
              "      <td>46</td>\n",
              "      <td>31</td>\n",
              "      <td>36</td>\n",
              "      <td>28</td>\n",
              "      <td>21</td>\n",
              "      <td>89</td>\n",
              "      <td>56</td>\n",
              "      <td>22</td>\n",
              "      <td>...</td>\n",
              "      <td>30.45</td>\n",
              "      <td>30.3</td>\n",
              "      <td>10</td>\n",
              "      <td>10</td>\n",
              "      <td>7</td>\n",
              "      <td>12</td>\n",
              "      <td>4</td>\n",
              "      <td>20</td>\n",
              "      <td>0</td>\n",
              "      <td></td>\n",
              "    </tr>\n",
              "    <tr>\n",
              "      <th>4</th>\n",
              "      <td>2013-12-25</td>\n",
              "      <td>58</td>\n",
              "      <td>50</td>\n",
              "      <td>41</td>\n",
              "      <td>44</td>\n",
              "      <td>40</td>\n",
              "      <td>36</td>\n",
              "      <td>86</td>\n",
              "      <td>71</td>\n",
              "      <td>56</td>\n",
              "      <td>...</td>\n",
              "      <td>30.33</td>\n",
              "      <td>30.27</td>\n",
              "      <td>10</td>\n",
              "      <td>10</td>\n",
              "      <td>7</td>\n",
              "      <td>10</td>\n",
              "      <td>2</td>\n",
              "      <td>16</td>\n",
              "      <td>T</td>\n",
              "      <td></td>\n",
              "    </tr>\n",
              "  </tbody>\n",
              "</table>\n",
              "<p>5 rows × 21 columns</p>\n",
              "</div>\n",
              "      <button class=\"colab-df-convert\" onclick=\"convertToInteractive('df-b37d837e-128d-4674-a9d7-db3fc4232a27')\"\n",
              "              title=\"Convert this dataframe to an interactive table.\"\n",
              "              style=\"display:none;\">\n",
              "        \n",
              "  <svg xmlns=\"http://www.w3.org/2000/svg\" height=\"24px\"viewBox=\"0 0 24 24\"\n",
              "       width=\"24px\">\n",
              "    <path d=\"M0 0h24v24H0V0z\" fill=\"none\"/>\n",
              "    <path d=\"M18.56 5.44l.94 2.06.94-2.06 2.06-.94-2.06-.94-.94-2.06-.94 2.06-2.06.94zm-11 1L8.5 8.5l.94-2.06 2.06-.94-2.06-.94L8.5 2.5l-.94 2.06-2.06.94zm10 10l.94 2.06.94-2.06 2.06-.94-2.06-.94-.94-2.06-.94 2.06-2.06.94z\"/><path d=\"M17.41 7.96l-1.37-1.37c-.4-.4-.92-.59-1.43-.59-.52 0-1.04.2-1.43.59L10.3 9.45l-7.72 7.72c-.78.78-.78 2.05 0 2.83L4 21.41c.39.39.9.59 1.41.59.51 0 1.02-.2 1.41-.59l7.78-7.78 2.81-2.81c.8-.78.8-2.07 0-2.86zM5.41 20L4 18.59l7.72-7.72 1.47 1.35L5.41 20z\"/>\n",
              "  </svg>\n",
              "      </button>\n",
              "      \n",
              "  <style>\n",
              "    .colab-df-container {\n",
              "      display:flex;\n",
              "      flex-wrap:wrap;\n",
              "      gap: 12px;\n",
              "    }\n",
              "\n",
              "    .colab-df-convert {\n",
              "      background-color: #E8F0FE;\n",
              "      border: none;\n",
              "      border-radius: 50%;\n",
              "      cursor: pointer;\n",
              "      display: none;\n",
              "      fill: #1967D2;\n",
              "      height: 32px;\n",
              "      padding: 0 0 0 0;\n",
              "      width: 32px;\n",
              "    }\n",
              "\n",
              "    .colab-df-convert:hover {\n",
              "      background-color: #E2EBFA;\n",
              "      box-shadow: 0px 1px 2px rgba(60, 64, 67, 0.3), 0px 1px 3px 1px rgba(60, 64, 67, 0.15);\n",
              "      fill: #174EA6;\n",
              "    }\n",
              "\n",
              "    [theme=dark] .colab-df-convert {\n",
              "      background-color: #3B4455;\n",
              "      fill: #D2E3FC;\n",
              "    }\n",
              "\n",
              "    [theme=dark] .colab-df-convert:hover {\n",
              "      background-color: #434B5C;\n",
              "      box-shadow: 0px 1px 3px 1px rgba(0, 0, 0, 0.15);\n",
              "      filter: drop-shadow(0px 1px 2px rgba(0, 0, 0, 0.3));\n",
              "      fill: #FFFFFF;\n",
              "    }\n",
              "  </style>\n",
              "\n",
              "      <script>\n",
              "        const buttonEl =\n",
              "          document.querySelector('#df-b37d837e-128d-4674-a9d7-db3fc4232a27 button.colab-df-convert');\n",
              "        buttonEl.style.display =\n",
              "          google.colab.kernel.accessAllowed ? 'block' : 'none';\n",
              "\n",
              "        async function convertToInteractive(key) {\n",
              "          const element = document.querySelector('#df-b37d837e-128d-4674-a9d7-db3fc4232a27');\n",
              "          const dataTable =\n",
              "            await google.colab.kernel.invokeFunction('convertToInteractive',\n",
              "                                                     [key], {});\n",
              "          if (!dataTable) return;\n",
              "\n",
              "          const docLinkHtml = 'Like what you see? Visit the ' +\n",
              "            '<a target=\"_blank\" href=https://colab.research.google.com/notebooks/data_table.ipynb>data table notebook</a>'\n",
              "            + ' to learn more about interactive tables.';\n",
              "          element.innerHTML = '';\n",
              "          dataTable['output_type'] = 'display_data';\n",
              "          await google.colab.output.renderOutput(dataTable, element);\n",
              "          const docLink = document.createElement('div');\n",
              "          docLink.innerHTML = docLinkHtml;\n",
              "          element.appendChild(docLink);\n",
              "        }\n",
              "      </script>\n",
              "    </div>\n",
              "  </div>\n",
              "  "
            ]
          },
          "metadata": {},
          "execution_count": 117
        }
      ]
    },
    {
      "cell_type": "code",
      "source": [
        "data_awal_1.info()"
      ],
      "metadata": {
        "colab": {
          "base_uri": "https://localhost:8080/"
        },
        "id": "aOfdy8WZ_3De",
        "outputId": "2286f9c9-5da7-4d03-a3b8-544a2ad07c0d"
      },
      "execution_count": null,
      "outputs": [
        {
          "output_type": "stream",
          "name": "stdout",
          "text": [
            "<class 'pandas.core.frame.DataFrame'>\n",
            "Int64Index: 1319 entries, 0 to 1318\n",
            "Data columns (total 21 columns):\n",
            " #   Column                      Non-Null Count  Dtype \n",
            "---  ------                      --------------  ----- \n",
            " 0   Date                        1319 non-null   object\n",
            " 1   TempHighF                   1319 non-null   int64 \n",
            " 2   TempAvgF                    1319 non-null   int64 \n",
            " 3   TempLowF                    1319 non-null   int64 \n",
            " 4   DewPointHighF               1319 non-null   object\n",
            " 5   DewPointAvgF                1319 non-null   object\n",
            " 6   DewPointLowF                1319 non-null   object\n",
            " 7   HumidityHighPercent         1319 non-null   object\n",
            " 8   HumidityAvgPercent          1319 non-null   object\n",
            " 9   HumidityLowPercent          1319 non-null   object\n",
            " 10  SeaLevelPressureHighInches  1319 non-null   object\n",
            " 11  SeaLevelPressureAvgInches   1319 non-null   object\n",
            " 12  SeaLevelPressureLowInches   1319 non-null   object\n",
            " 13  VisibilityHighMiles         1319 non-null   object\n",
            " 14  VisibilityAvgMiles          1319 non-null   object\n",
            " 15  VisibilityLowMiles          1319 non-null   object\n",
            " 16  WindHighMPH                 1319 non-null   object\n",
            " 17  WindAvgMPH                  1319 non-null   object\n",
            " 18  WindGustMPH                 1319 non-null   object\n",
            " 19  PrecipitationSumInches      1319 non-null   object\n",
            " 20  Events                      1319 non-null   object\n",
            "dtypes: int64(3), object(18)\n",
            "memory usage: 226.7+ KB\n"
          ]
        }
      ]
    },
    {
      "cell_type": "code",
      "source": [
        "data_awal_1[target] = data_awal_1[target].astype(np.float64)"
      ],
      "metadata": {
        "id": "PWpzKi7w381s"
      },
      "execution_count": null,
      "outputs": []
    },
    {
      "cell_type": "code",
      "source": [
        "import matplotlib.pyplot as plt\n",
        "\n",
        "waktu = data_awal_1['Date'].values\n",
        "data = data_awal_1[target].values\n",
        "\n",
        "\n",
        "plt.figure(figsize = (15,5))\n",
        "plt.plot(data)"
      ],
      "metadata": {
        "colab": {
          "base_uri": "https://localhost:8080/",
          "height": 337
        },
        "id": "pq1UMx6t2P69",
        "outputId": "db2d8dcb-26d9-4a1e-b860-28370b77f0fa"
      },
      "execution_count": null,
      "outputs": [
        {
          "output_type": "execute_result",
          "data": {
            "text/plain": [
              "[<matplotlib.lines.Line2D at 0x7f6997bc1d50>]"
            ]
          },
          "metadata": {},
          "execution_count": 129
        },
        {
          "output_type": "display_data",
          "data": {
            "text/plain": [
              "<Figure size 1080x360 with 1 Axes>"
            ],
            "image/png": "[encoded data removed]"
          },
          "metadata": {
            "needs_background": "light"
          }
        }
      ]
    },
    {
      "cell_type": "code",
      "source": [
        "data"
      ],
      "metadata": {
        "colab": {
          "base_uri": "https://localhost:8080/"
        },
        "id": "50ts0tfKRlMZ",
        "outputId": "c48b7aa0-d7d4-4c7f-fd7b-9c58126ed96f"
      },
      "execution_count": null,
      "outputs": [
        {
          "output_type": "execute_result",
          "data": {
            "text/plain": [
              "array([60., 48., 45., ..., 92., 93., 88.])"
            ]
          },
          "metadata": {},
          "execution_count": 130
        }
      ]
    },
    {
      "cell_type": "code",
      "source": [
        "def bagi(series, window_size, batch_size, shuffle_buffer):\n",
        "  series = tf.expand_dims(series, axis = -1)\n",
        "  ds = tf.data.Dataset.from_tensor_slices(series)\n",
        "  ds = ds.window(window_size + 1, shift = 1, drop_remainder =True)\n",
        "  ds = ds.flat_map(lambda w: w.batch(window_size + 1))\n",
        "  ds = ds.shuffle(shuffle_buffer)\n",
        "  ds = ds.map(lambda w: (w[:-1], w[-1:]))\n",
        "  return ds.batch(batch_size).prefetch(1)"
      ],
      "metadata": {
        "id": "riL_0KWj4Mjc"
      },
      "execution_count": null,
      "outputs": []
    },
    {
      "cell_type": "code",
      "source": [
        "from sklearn.model_selection import train_test_split\n",
        "\n",
        "x_train, x_test, y_train, y_test = train_test_split(data, waktu, test_size = 0.2, random_state = 0 , shuffle=False)\n"
      ],
      "metadata": {
        "id": "Po7RtY5vl50m"
      },
      "execution_count": null,
      "outputs": []
    },
    {
      "cell_type": "code",
      "source": [
        "data_train = bagi(x_train, window_size = 60, batch_size = 100, shuffle_buffer = 1000)\n",
        "\n",
        "data_test = bagi(x_test, window_size=60, batch_size=100, shuffle_buffer= 1000)"
      ],
      "metadata": {
        "id": "IHT5bjVk4PGl"
      },
      "execution_count": null,
      "outputs": []
    },
    {
      "cell_type": "code",
      "source": [
        "# Model\n",
        "\n",
        "\n",
        "# LSTM --> untuk memcahkan masalah machine translation, speech recognation\n",
        "\n",
        "# Apabila pakai 2 layer LSTM, layer pertama harus pakai return_sequences bernilai True\n",
        "\n",
        "from keras.layers import Dense, LSTM, Dropout\n",
        "from keras.models import Sequential\n",
        "\n",
        "model = Sequential([LSTM(60, return_sequences = True),\n",
        "                    LSTM(60),\n",
        "                    Dense(30, activation = 'relu'),\n",
        "                    #Dropout(0.5),\n",
        "                    Dense(10, activation = 'relu'),\n",
        "                    Dense(1)])"
      ],
      "metadata": {
        "id": "oHPu1T1Rf9Wm"
      },
      "execution_count": null,
      "outputs": []
    },
    {
      "cell_type": "code",
      "source": [
        "max = data_awal_1[target].max()\n",
        "print('Nilai Maksimal : ' )\n",
        "print(max)\n",
        "\n",
        "\n",
        "min = data_awal_1[target].min()\n",
        "print('Nilai Mininmal : ' )\n",
        "print(min)\n",
        "\n",
        "th_mae = (max-min)*10/100\n",
        "print(th_mae)"
      ],
      "metadata": {
        "colab": {
          "base_uri": "https://localhost:8080/"
        },
        "id": "h7VjxZabnhad",
        "outputId": "26f37e28-bc7a-4930-b511-e18dc5c1815a"
      },
      "execution_count": null,
      "outputs": [
        {
          "output_type": "stream",
          "name": "stdout",
          "text": [
            "Nilai Maksimal : \n",
            "93.0\n",
            "Nilai Mininmal : \n",
            "29.0\n",
            "6.4\n"
          ]
        }
      ]
    },
    {
      "cell_type": "code",
      "source": [
        "class batas(tf.keras.callbacks.Callback):\n",
        "  def on_epoch_end(self, epoch, logs={}):\n",
        "    if(logs.get('mae')< th_mae):\n",
        "      self.model.stop_training = True\n",
        "      print(\"\\nNilai MAE sudah dibawah Treshold\")\n",
        "callbacks = batas()"
      ],
      "metadata": {
        "id": "dK7ODbQpoVlA"
      },
      "execution_count": null,
      "outputs": []
    },
    {
      "cell_type": "code",
      "source": [
        "from keras.optimizers import SGD\n",
        "from keras.losses import Huber\n",
        "\n",
        "optimizer = SGD(lr=1.0000e-04, momentum=0.9)\n",
        "\n",
        "model.compile(loss = Huber(),\n",
        "              optimizer = optimizer,\n",
        "              metrics = ['mae'])\n",
        "\n",
        "history = model.fit(data_train, validation_data = data_test, epochs = 100, callbacks = [callbacks])"
      ],
      "metadata": {
        "id": "Vr14xaBVhPrP",
        "colab": {
          "base_uri": "https://localhost:8080/"
        },
        "outputId": "f5f20f81-526f-4a18-aa38-85da342b17be"
      },
      "execution_count": null,
      "outputs": [
        {
          "output_type": "stream",
          "name": "stdout",
          "text": [
            "Epoch 1/100\n"
          ]
        },
        {
          "output_type": "stream",
          "name": "stderr",
          "text": [
            "/usr/local/lib/python3.7/dist-packages/keras/optimizers/optimizer_v2/gradient_descent.py:108: UserWarning: The `lr` argument is deprecated, use `learning_rate` instead.\n",
            "  super(SGD, self).__init__(name, **kwargs)\n"
          ]
        },
        {
          "output_type": "stream",
          "name": "stdout",
          "text": [
            "10/10 [==============================] - 5s 113ms/step - loss: 71.6359 - mae: 72.1359 - val_loss: 73.9707 - val_mae: 74.4707\n",
            "Epoch 2/100\n",
            "10/10 [==============================] - 0s 21ms/step - loss: 71.4937 - mae: 71.9937 - val_loss: 73.7569 - val_mae: 74.2569\n",
            "Epoch 3/100\n",
            "10/10 [==============================] - 0s 23ms/step - loss: 71.3469 - mae: 71.8469 - val_loss: 73.7008 - val_mae: 74.2008\n",
            "Epoch 4/100\n",
            "10/10 [==============================] - 0s 22ms/step - loss: 71.2912 - mae: 71.7912 - val_loss: 73.6465 - val_mae: 74.1465\n",
            "Epoch 5/100\n",
            "10/10 [==============================] - 0s 22ms/step - loss: 71.2393 - mae: 71.7393 - val_loss: 73.5967 - val_mae: 74.0967\n",
            "Epoch 6/100\n",
            "10/10 [==============================] - 0s 22ms/step - loss: 71.1912 - mae: 71.6912 - val_loss: 73.5491 - val_mae: 74.0491\n",
            "Epoch 7/100\n",
            "10/10 [==============================] - 0s 23ms/step - loss: 71.1448 - mae: 71.6448 - val_loss: 73.5034 - val_mae: 74.0034\n",
            "Epoch 8/100\n",
            "10/10 [==============================] - 0s 23ms/step - loss: 71.0996 - mae: 71.5996 - val_loss: 73.4581 - val_mae: 73.9581\n",
            "Epoch 9/100\n",
            "10/10 [==============================] - 0s 22ms/step - loss: 71.0543 - mae: 71.5543 - val_loss: 73.4123 - val_mae: 73.9123\n",
            "Epoch 10/100\n",
            "10/10 [==============================] - 0s 31ms/step - loss: 71.0083 - mae: 71.5083 - val_loss: 73.3657 - val_mae: 73.8657\n",
            "Epoch 11/100\n",
            "10/10 [==============================] - 0s 21ms/step - loss: 70.9612 - mae: 71.4612 - val_loss: 73.3176 - val_mae: 73.8176\n",
            "Epoch 12/100\n",
            "10/10 [==============================] - 0s 22ms/step - loss: 70.9124 - mae: 71.4124 - val_loss: 73.2678 - val_mae: 73.7678\n",
            "Epoch 13/100\n",
            "10/10 [==============================] - 0s 22ms/step - loss: 70.8617 - mae: 71.3617 - val_loss: 73.2159 - val_mae: 73.7159\n",
            "Epoch 14/100\n",
            "10/10 [==============================] - 0s 22ms/step - loss: 70.8088 - mae: 71.3088 - val_loss: 73.1616 - val_mae: 73.6616\n",
            "Epoch 15/100\n",
            "10/10 [==============================] - 0s 23ms/step - loss: 70.7533 - mae: 71.2533 - val_loss: 73.1047 - val_mae: 73.6047\n",
            "Epoch 16/100\n",
            "10/10 [==============================] - 0s 21ms/step - loss: 70.6953 - mae: 71.1953 - val_loss: 73.0453 - val_mae: 73.5453\n",
            "Epoch 17/100\n",
            "10/10 [==============================] - 0s 21ms/step - loss: 70.6346 - mae: 71.1346 - val_loss: 72.9830 - val_mae: 73.4830\n",
            "Epoch 18/100\n",
            "10/10 [==============================] - 0s 21ms/step - loss: 70.5705 - mae: 71.0705 - val_loss: 72.9166 - val_mae: 73.4166\n",
            "Epoch 19/100\n",
            "10/10 [==============================] - 0s 22ms/step - loss: 70.5020 - mae: 71.0020 - val_loss: 72.8453 - val_mae: 73.3453\n",
            "Epoch 20/100\n",
            "10/10 [==============================] - 0s 21ms/step - loss: 70.4279 - mae: 70.9279 - val_loss: 72.7674 - val_mae: 73.2674\n",
            "Epoch 21/100\n",
            "10/10 [==============================] - 0s 22ms/step - loss: 70.3465 - mae: 70.8465 - val_loss: 72.6811 - val_mae: 73.1811\n",
            "Epoch 22/100\n",
            "10/10 [==============================] - 0s 21ms/step - loss: 70.2563 - mae: 70.7563 - val_loss: 72.5859 - val_mae: 73.0859\n",
            "Epoch 23/100\n",
            "10/10 [==============================] - 0s 21ms/step - loss: 70.1577 - mae: 70.6577 - val_loss: 72.4836 - val_mae: 72.9836\n",
            "Epoch 24/100\n",
            "10/10 [==============================] - 0s 22ms/step - loss: 70.0534 - mae: 70.5534 - val_loss: 72.3761 - val_mae: 72.8761\n",
            "Epoch 25/100\n",
            "10/10 [==============================] - 0s 22ms/step - loss: 69.9433 - mae: 70.4433 - val_loss: 72.2620 - val_mae: 72.7620\n",
            "Epoch 26/100\n",
            "10/10 [==============================] - 0s 21ms/step - loss: 69.8254 - mae: 70.3254 - val_loss: 72.1385 - val_mae: 72.6385\n",
            "Epoch 27/100\n",
            "10/10 [==============================] - 0s 21ms/step - loss: 69.6968 - mae: 70.1968 - val_loss: 72.0014 - val_mae: 72.5014\n",
            "Epoch 28/100\n",
            "10/10 [==============================] - 0s 23ms/step - loss: 69.5500 - mae: 70.0500 - val_loss: 71.8369 - val_mae: 72.3369\n",
            "Epoch 29/100\n",
            "10/10 [==============================] - 0s 21ms/step - loss: 69.3734 - mae: 69.8734 - val_loss: 71.6439 - val_mae: 72.1439\n",
            "Epoch 30/100\n",
            "10/10 [==============================] - 0s 21ms/step - loss: 69.1667 - mae: 69.6667 - val_loss: 71.4193 - val_mae: 71.9193\n",
            "Epoch 31/100\n",
            "10/10 [==============================] - 0s 21ms/step - loss: 68.9268 - mae: 69.4268 - val_loss: 71.1624 - val_mae: 71.6624\n",
            "Epoch 32/100\n",
            "10/10 [==============================] - 0s 20ms/step - loss: 68.6552 - mae: 69.1552 - val_loss: 70.8720 - val_mae: 71.3721\n",
            "Epoch 33/100\n",
            "10/10 [==============================] - 0s 22ms/step - loss: 68.3475 - mae: 68.8475 - val_loss: 70.5413 - val_mae: 71.0413\n",
            "Epoch 34/100\n",
            "10/10 [==============================] - 0s 23ms/step - loss: 67.9952 - mae: 68.4952 - val_loss: 70.1608 - val_mae: 70.6608\n",
            "Epoch 35/100\n",
            "10/10 [==============================] - 0s 22ms/step - loss: 67.5877 - mae: 68.0877 - val_loss: 69.7131 - val_mae: 70.2131\n",
            "Epoch 36/100\n",
            "10/10 [==============================] - 0s 21ms/step - loss: 67.1030 - mae: 67.6030 - val_loss: 69.1775 - val_mae: 69.6775\n",
            "Epoch 37/100\n",
            "10/10 [==============================] - 0s 23ms/step - loss: 66.5274 - mae: 67.0274 - val_loss: 68.5543 - val_mae: 69.0543\n",
            "Epoch 38/100\n",
            "10/10 [==============================] - 0s 21ms/step - loss: 65.8635 - mae: 66.3635 - val_loss: 67.8372 - val_mae: 68.3372\n",
            "Epoch 39/100\n",
            "10/10 [==============================] - 0s 21ms/step - loss: 65.0908 - mae: 65.5908 - val_loss: 66.9888 - val_mae: 67.4888\n",
            "Epoch 40/100\n",
            "10/10 [==============================] - 0s 22ms/step - loss: 64.1715 - mae: 64.6715 - val_loss: 65.9736 - val_mae: 66.4736\n",
            "Epoch 41/100\n",
            "10/10 [==============================] - 1s 48ms/step - loss: 63.0654 - mae: 63.5654 - val_loss: 64.7445 - val_mae: 65.2445\n",
            "Epoch 42/100\n",
            "10/10 [==============================] - 0s 23ms/step - loss: 61.7194 - mae: 62.2194 - val_loss: 63.2405 - val_mae: 63.7405\n",
            "Epoch 43/100\n",
            "10/10 [==============================] - 0s 20ms/step - loss: 60.0654 - mae: 60.5654 - val_loss: 61.3814 - val_mae: 61.8814\n",
            "Epoch 44/100\n",
            "10/10 [==============================] - 0s 22ms/step - loss: 58.0024 - mae: 58.5024 - val_loss: 59.0363 - val_mae: 59.5363\n",
            "Epoch 45/100\n",
            "10/10 [==============================] - 0s 21ms/step - loss: 55.3747 - mae: 55.8747 - val_loss: 56.0168 - val_mae: 56.5168\n",
            "Epoch 46/100\n",
            "10/10 [==============================] - 0s 20ms/step - loss: 51.9631 - mae: 52.4631 - val_loss: 52.0619 - val_mae: 52.5619\n",
            "Epoch 47/100\n",
            "10/10 [==============================] - 0s 21ms/step - loss: 47.4525 - mae: 47.9525 - val_loss: 46.7657 - val_mae: 47.2657\n",
            "Epoch 48/100\n",
            "10/10 [==============================] - 0s 20ms/step - loss: 41.3282 - mae: 41.8282 - val_loss: 39.4610 - val_mae: 39.9610\n",
            "Epoch 49/100\n",
            "10/10 [==============================] - 0s 21ms/step - loss: 32.8607 - mae: 33.3576 - val_loss: 29.1662 - val_mae: 29.6662\n",
            "Epoch 50/100\n",
            "10/10 [==============================] - 0s 20ms/step - loss: 22.0895 - mae: 22.5872 - val_loss: 16.2014 - val_mae: 16.6996\n",
            "Epoch 51/100\n",
            "10/10 [==============================] - 0s 20ms/step - loss: 12.7594 - mae: 13.2540 - val_loss: 8.5616 - val_mae: 9.0523\n",
            "Epoch 52/100\n",
            "10/10 [==============================] - 0s 21ms/step - loss: 10.8325 - mae: 11.3227 - val_loss: 9.3228 - val_mae: 9.8161\n",
            "Epoch 53/100\n",
            "10/10 [==============================] - 0s 21ms/step - loss: 10.9165 - mae: 11.4077 - val_loss: 8.5435 - val_mae: 9.0338\n",
            "Epoch 54/100\n",
            "10/10 [==============================] - 0s 22ms/step - loss: 10.5055 - mae: 10.9952 - val_loss: 8.5097 - val_mae: 9.0018\n",
            "Epoch 55/100\n",
            "10/10 [==============================] - 0s 22ms/step - loss: 10.4751 - mae: 10.9678 - val_loss: 8.4692 - val_mae: 8.9590\n",
            "Epoch 56/100\n",
            "10/10 [==============================] - 0s 22ms/step - loss: 10.4338 - mae: 10.9257 - val_loss: 8.3964 - val_mae: 8.8789\n",
            "Epoch 57/100\n",
            "10/10 [==============================] - 0s 22ms/step - loss: 10.3982 - mae: 10.8902 - val_loss: 8.3793 - val_mae: 8.8576\n",
            "Epoch 58/100\n",
            "10/10 [==============================] - 0s 22ms/step - loss: 10.3723 - mae: 10.8647 - val_loss: 8.3555 - val_mae: 8.8346\n",
            "Epoch 59/100\n",
            "10/10 [==============================] - 0s 21ms/step - loss: 10.3376 - mae: 10.8304 - val_loss: 8.3301 - val_mae: 8.8136\n",
            "Epoch 60/100\n",
            "10/10 [==============================] - 0s 20ms/step - loss: 10.2911 - mae: 10.7847 - val_loss: 8.2878 - val_mae: 8.7696\n",
            "Epoch 61/100\n",
            "10/10 [==============================] - 0s 22ms/step - loss: 10.2349 - mae: 10.7277 - val_loss: 8.2411 - val_mae: 8.7231\n",
            "Epoch 62/100\n",
            "10/10 [==============================] - 0s 21ms/step - loss: 10.1642 - mae: 10.6565 - val_loss: 8.1684 - val_mae: 8.6514\n",
            "Epoch 63/100\n",
            "10/10 [==============================] - 0s 22ms/step - loss: 10.0751 - mae: 10.5671 - val_loss: 8.1269 - val_mae: 8.6127\n",
            "Epoch 64/100\n",
            "10/10 [==============================] - 0s 23ms/step - loss: 9.9590 - mae: 10.4502 - val_loss: 8.0196 - val_mae: 8.5056\n",
            "Epoch 65/100\n",
            "10/10 [==============================] - 0s 23ms/step - loss: 9.8669 - mae: 10.3581 - val_loss: 7.8545 - val_mae: 8.3390\n",
            "Epoch 66/100\n",
            "10/10 [==============================] - 0s 22ms/step - loss: 9.6644 - mae: 10.1547 - val_loss: 7.7201 - val_mae: 8.2064\n",
            "Epoch 67/100\n",
            "10/10 [==============================] - 0s 22ms/step - loss: 9.4799 - mae: 9.9705 - val_loss: 7.6142 - val_mae: 8.1024\n",
            "Epoch 68/100\n",
            "10/10 [==============================] - 0s 22ms/step - loss: 9.3249 - mae: 9.8136 - val_loss: 7.5079 - val_mae: 7.9995\n",
            "Epoch 69/100\n",
            "10/10 [==============================] - 0s 21ms/step - loss: 9.1548 - mae: 9.6437 - val_loss: 7.3771 - val_mae: 7.8698\n",
            "Epoch 70/100\n",
            "10/10 [==============================] - 0s 21ms/step - loss: 8.9740 - mae: 9.4640 - val_loss: 7.2280 - val_mae: 7.7156\n",
            "Epoch 71/100\n",
            "10/10 [==============================] - 0s 22ms/step - loss: 8.7275 - mae: 9.2177 - val_loss: 6.8882 - val_mae: 7.3790\n",
            "Epoch 72/100\n",
            "10/10 [==============================] - 0s 22ms/step - loss: 8.4755 - mae: 8.9643 - val_loss: 6.6254 - val_mae: 7.1157\n",
            "Epoch 73/100\n",
            "10/10 [==============================] - 0s 22ms/step - loss: 7.9317 - mae: 8.4234 - val_loss: 6.2986 - val_mae: 6.7856\n",
            "Epoch 74/100\n",
            "10/10 [==============================] - 0s 22ms/step - loss: 7.3417 - mae: 7.8302 - val_loss: 5.4666 - val_mae: 5.9496\n",
            "Epoch 75/100\n",
            "10/10 [==============================] - 0s 22ms/step - loss: 6.7285 - mae: 7.2152 - val_loss: 4.8649 - val_mae: 5.3449\n",
            "Epoch 76/100\n",
            "10/10 [==============================] - 0s 22ms/step - loss: 6.1196 - mae: 6.6024 - val_loss: 4.5600 - val_mae: 5.0416\n",
            "Epoch 77/100\n",
            "10/10 [==============================] - 0s 21ms/step - loss: 6.2948 - mae: 6.7787 - val_loss: 4.3646 - val_mae: 4.8408\n",
            "Epoch 78/100\n",
            "10/10 [==============================] - 0s 22ms/step - loss: 6.4819 - mae: 6.9600 - val_loss: 5.3695 - val_mae: 5.8564\n",
            "Epoch 79/100\n",
            " 9/10 [==========================>...] - ETA: 0s - loss: 5.8823 - mae: 6.3648\n",
            "Nilai MAE sudah dibawah Treshold\n",
            "10/10 [==============================] - 0s 22ms/step - loss: 5.8284 - mae: 6.3104 - val_loss: 4.4103 - val_mae: 4.8935\n"
          ]
        }
      ]
    },
    {
      "cell_type": "code",
      "source": [
        "plt.plot(history.history['mae'])\n",
        "plt.plot(history.history['val_mae'])\n",
        "plt.title('Grafik MAE')\n",
        "plt.ylabel('MAE')\n",
        "plt.xlabel('Epoch')\n",
        "plt.legend(['train', 'test'], loc='best')\n",
        "plt.show()"
      ],
      "metadata": {
        "id": "0G5pMt-OiYje",
        "colab": {
          "base_uri": "https://localhost:8080/",
          "height": 295
        },
        "outputId": "49b93b91-0bbb-42c7-cfb6-f21ecaf56006"
      },
      "execution_count": null,
      "outputs": [
        {
          "output_type": "display_data",
          "data": {
            "text/plain": [
              "<Figure size 432x288 with 1 Axes>"
            ],
            "image/png": "[encoded data removed]"
          },
          "metadata": {
            "needs_background": "light"
          }
        }
      ]
    },
    {
      "cell_type": "code",
      "source": [
        "plt.plot(history.history['loss'])\n",
        "plt.plot(history.history['val_loss'])\n",
        "plt.title('Grafik Loss')\n",
        "plt.ylabel('Loss')\n",
        "plt.xlabel('Epoch')\n",
        "plt.legend(['train', 'test'], loc='best')\n",
        "plt.show()"
      ],
      "metadata": {
        "colab": {
          "base_uri": "https://localhost:8080/",
          "height": 295
        },
        "id": "e9ZsD4Sl5O12",
        "outputId": "86e0f6c1-a3b7-4030-d9e3-b9ca7c74b351"
      },
      "execution_count": null,
      "outputs": [
        {
          "output_type": "display_data",
          "data": {
            "text/plain": [
              "<Figure size 432x288 with 1 Axes>"
            ],
            "image/png": "[encoded data removed]"
          },
          "metadata": {
            "needs_background": "light"
          }
        }
      ]
    }
  ]
}